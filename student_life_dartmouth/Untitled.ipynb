{
 "cells": [
  {
   "cell_type": "code",
   "execution_count": 1,
   "metadata": {
    "collapsed": true
   },
   "outputs": [],
   "source": [
    "import pandas as pd\n",
    "import numpy as np \n",
    "import matplotlib.pyplot as plt\n",
    "import seaborn as sns\n",
    "from sklearn import ensemble, tree, linear_model\n",
    "from sklearn.model_selection import train_test_split, cross_val_score\n",
    "from sklearn.metrics import r2_score, mean_squared_error\n",
    "from sklearn.utils import shuffle\n",
    "%matplotlib inline\n",
    "import warnings\n",
    "warnings.filterwarnings('ignore')"
   ]
  },
  {
   "cell_type": "code",
   "execution_count": 2,
   "metadata": {},
   "outputs": [],
   "source": [
    "survey = pd.read_csv('./dataset/survey/BigFive.csv')"
   ]
  },
  {
   "cell_type": "code",
   "execution_count": 9,
   "metadata": {},
   "outputs": [
    {
     "data": {
      "text/plain": [
       "0     3\n",
       "1     4\n",
       "2     4\n",
       "3     3\n",
       "4     3\n",
       "5     3\n",
       "6     3\n",
       "7     4\n",
       "8     1\n",
       "9     5\n",
       "10    2\n",
       "11    4\n",
       "12    5\n",
       "13    2\n",
       "14    4\n",
       "15    5\n",
       "16    4\n",
       "17    3\n",
       "18    2\n",
       "19    2\n",
       "20    4\n",
       "21    4\n",
       "22    2\n",
       "23    2\n",
       "24    4\n",
       "25    4\n",
       "26    3\n",
       "27    3\n",
       "28    2\n",
       "29    2\n",
       "30    3\n",
       "31    1\n",
       "32    2\n",
       "33    3\n",
       "34    3\n",
       "35    5\n",
       "36    3\n",
       "37    2\n",
       "38    3\n",
       "39    3\n",
       "40    4\n",
       "41    3\n",
       "42    1\n",
       "43    2\n",
       "44    3\n",
       "45    2\n",
       "Name: 3, dtype: object"
      ]
     },
     "execution_count": 9,
     "metadata": {},
     "output_type": "execute_result"
    }
   ],
   "source": [
    "survey[3]"
   ]
  },
  {
   "cell_type": "code",
   "execution_count": 3,
   "metadata": {
    "scrolled": false
   },
   "outputs": [],
   "source": [
    "survey2 = survey.values[46:]\n",
    "survey = survey.values[:46]\n",
    "survey2 = pd.DataFrame(survey2)\n",
    "survey = pd.DataFrame(survey)\n",
    "survey[3][survey[3] == \"Agree a little\"] = 4\n",
    "\n",
    "survey[3][survey[3] == \"Disagree a little\"] = 2\n",
    "\n",
    "survey[3][survey[3] == \"Neither agree nor disagree\"] = 3\n",
    "\n",
    "survey[3][survey[3] == \"Disagree Strongly\"] = 1\n",
    "\n",
    "survey[3][survey[3] == \"Agree strongly\"] = 5\n",
    "\n",
    "survey2[3][survey2[3] == \"Agree a little\"] = 4\n",
    "\n",
    "survey2[3][survey2[3] == \"Disagree a little\"] = 2\n",
    "\n",
    "survey2[3][survey2[3] == \"Neither agree nor disagree\"] = 3\n",
    "\n",
    "survey2[3][survey2[3] == \"Disagree Strongly\"] = 1\n",
    "\n",
    "survey2[3][survey2[3] == \"Agree strongly\"] = 5"
   ]
  },
  {
   "cell_type": "code",
   "execution_count": 4,
   "metadata": {
    "scrolled": false
   },
   "outputs": [
    {
     "data": {
      "text/plain": [
       "0       0\n",
       "1       0\n",
       "2       0\n",
       "3       1\n",
       "4       1\n",
       "5       0\n",
       "6      -2\n",
       "7      -3\n",
       "8       4\n",
       "9      -1\n",
       "10     -1\n",
       "11     -1\n",
       "12      0\n",
       "13      3\n",
       "14     -2\n",
       "15     -4\n",
       "16      0\n",
       "17      2\n",
       "18      1\n",
       "19      0\n",
       "20      0\n",
       "21      0\n",
       "22      0\n",
       "23      1\n",
       "24     -3\n",
       "25     -3\n",
       "26     -2\n",
       "27     -1\n",
       "28      1\n",
       "29      2\n",
       "30     -1\n",
       "31      2\n",
       "32      1\n",
       "33      1\n",
       "34      1\n",
       "35     -3\n",
       "36     -1\n",
       "37      1\n",
       "38     -1\n",
       "39    NaN\n",
       "40    NaN\n",
       "41    NaN\n",
       "42    NaN\n",
       "43    NaN\n",
       "44    NaN\n",
       "45    NaN\n",
       "Name: 3, dtype: object"
      ]
     },
     "execution_count": 4,
     "metadata": {},
     "output_type": "execute_result"
    }
   ],
   "source": [
    "survey2[3] - survey[3]"
   ]
  },
  {
   "cell_type": "code",
   "execution_count": null,
   "metadata": {
    "collapsed": true
   },
   "outputs": [],
   "source": []
  }
 ],
 "metadata": {
  "kernelspec": {
   "display_name": "Python 3",
   "language": "python",
   "name": "python3"
  },
  "language_info": {
   "codemirror_mode": {
    "name": "ipython",
    "version": 3
   },
   "file_extension": ".py",
   "mimetype": "text/x-python",
   "name": "python",
   "nbconvert_exporter": "python",
   "pygments_lexer": "ipython3",
   "version": "3.6.1"
  }
 },
 "nbformat": 4,
 "nbformat_minor": 2
}
